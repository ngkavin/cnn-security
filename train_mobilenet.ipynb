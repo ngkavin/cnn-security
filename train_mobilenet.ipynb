{
 "cells": [
  {
   "cell_type": "markdown",
   "id": "9fa6146e-53b9-409f-84a3-520abeecaa23",
   "metadata": {},
   "source": [
    "## Retrieve Dataset"
   ]
  },
  {
   "cell_type": "code",
   "execution_count": 1,
   "id": "7d6c2fd6-0598-42d8-973d-c2c3fe51087b",
   "metadata": {},
   "outputs": [],
   "source": [
    "import os\n",
    "import torch\n",
    "import torchvision\n",
    "import torchvision.transforms as transforms\n",
    "import torch.nn as nn\n",
    "import torch.nn.functional as F\n",
    "import torch.optim as optim\n",
    "import numpy as np\n",
    "import matplotlib\n",
    "import matplotlib.pyplot as plt\n",
    "import utils\n",
    "from tqdm import tqdm\n",
    "from sklearn.metrics import accuracy_score"
   ]
  },
  {
   "cell_type": "code",
   "execution_count": 2,
   "id": "f75f144e-bc74-4302-9504-ec1d90d86b65",
   "metadata": {},
   "outputs": [],
   "source": [
    "device = torch.device('cuda:0' if torch.cuda.is_available() else 'cpu')"
   ]
  },
  {
   "cell_type": "markdown",
   "id": "32c5bbbe-a6e9-4b54-b926-f909e6123082",
   "metadata": {},
   "source": [
    "### Train Dataset"
   ]
  },
  {
   "cell_type": "code",
   "execution_count": 3,
   "id": "45cf2a75-41a2-42d5-8e18-588de8fb8ea5",
   "metadata": {},
   "outputs": [],
   "source": [
    "transform_rand = transforms.Compose([\n",
    "    transforms.CenterCrop(224),\n",
    "    transforms.ToTensor(),\n",
    "])\n",
    "transform_user = transforms.Compose([\n",
    "    transforms.Resize(256),\n",
    "    transforms.RandomCrop(224),\n",
    "    torchvision.transforms.ColorJitter(brightness=0.5, contrast=0.4, saturation=0.4),\n",
    "    transforms.ToTensor(),\n",
    "    utils.AddGaussianNoise(p=0.25, mean=0, std=0.02),\n",
    "    torchvision.transforms.RandomErasing(p=0.33, scale=(0.02, 0.05), ratio=(1,1))\n",
    "])"
   ]
  },
  {
   "cell_type": "code",
   "execution_count": 4,
   "id": "c024cab8-f0a7-4766-9d36-1b92cc3246f1",
   "metadata": {},
   "outputs": [],
   "source": [
    "batch_size = 32\n",
    "# Load ffhq 256x256 training dataset\n",
    "train_ffhq = torchvision.datasets.ImageFolder(\n",
    "    './dataset/train/ffhq', transform=transform_rand)\n",
    "train_ffhq_loader = torch.utils.data.DataLoader(\n",
    "    train_ffhq, batch_size=batch_size, shuffle=True, pin_memory=True,\n",
    "    num_workers=4)\n",
    "\n",
    "# Load user training dataset.\n",
    "train_users = torchvision.datasets.ImageFolder(\n",
    "    './dataset/train/users', transform=transform_user)\n",
    "# Only a single image is loaded at a time due to much less images compared to ffhq\n",
    "train_users_loader = torch.utils.data.DataLoader(\n",
    "    train_users, batch_size=1, shuffle=True, pin_memory=True)"
   ]
  },
  {
   "cell_type": "code",
   "execution_count": 5,
   "id": "cce8ea95-91a8-48cc-a60b-697a134aaf7f",
   "metadata": {},
   "outputs": [],
   "source": [
    "train_users_iter = iter(train_users_loader)\n",
    "def get_user_img():\n",
    "    global train_users_iter\n",
    "    try:\n",
    "        return next(train_users_iter) \n",
    "    except StopIteration:\n",
    "        # StopIteration is thrown if dataset ends\n",
    "        # reinitialize data loader \n",
    "        train_users_iter = iter(train_users_loader)\n",
    "        return next(train_users_iter)"
   ]
  },
  {
   "cell_type": "markdown",
   "id": "96ee0dce-a0dd-4c5e-8f20-ca7eb3c4ec7a",
   "metadata": {},
   "source": [
    "### Test Dataset"
   ]
  },
  {
   "cell_type": "code",
   "execution_count": 6,
   "id": "a5028555-6ae7-42d3-8ca0-7caceb2d83dc",
   "metadata": {},
   "outputs": [],
   "source": [
    "# New transforms without data augmentation\n",
    "transform_user_test = transforms.Compose([\n",
    "    transforms.Resize(256),\n",
    "    transforms.CenterCrop(224),\n",
    "    transforms.ToTensor(),\n",
    "])\n",
    "\n",
    "\n",
    "# Load ffhq 256x256 testing dataset\n",
    "test_ffhq = torchvision.datasets.ImageFolder(\n",
    "    './dataset/test/ffhq', transform=transform_rand)\n",
    "test_ffhq_loader = torch.utils.data.DataLoader(\n",
    "    test_ffhq, batch_size=2, shuffle=True, pin_memory=True,\n",
    "    num_workers=4)\n",
    "\n",
    "# Load user testing dataset.\n",
    "test_users = torchvision.datasets.ImageFolder(\n",
    "    './dataset/test/users', transform=transform_user_test)\n",
    "# Only a single image is loaded at a time due to much less images compared to ffhq\n",
    "test_users_loader = torch.utils.data.DataLoader(\n",
    "    test_users, batch_size=1, shuffle=True, pin_memory=True)"
   ]
  },
  {
   "cell_type": "code",
   "execution_count": 7,
   "id": "e97a191f-b5bf-4e30-919a-ba6e0a180019",
   "metadata": {},
   "outputs": [],
   "source": [
    "test_users_iter = iter(test_users_loader)\n",
    "def get_user_test_img():\n",
    "    global test_users_iter\n",
    "    try:\n",
    "        return next(test_users_iter) \n",
    "    except StopIteration:\n",
    "        # StopIteration is thrown if dataset ends\n",
    "        # reinitialize data loader \n",
    "        test_users_iter = iter(test_users_loader)\n",
    "        return next(test_users_iter)\n",
    "\n",
    "def get_model_accuracy(model_path):\n",
    "    model_test = torch.load(model_path).eval()\n",
    "    prediction = []\n",
    "    target = []\n",
    "    for data in test_ffhq_loader:\n",
    "        images, labels = data\n",
    "        user_img, label = get_user_test_img()\n",
    "\n",
    "        images[1] = user_img[0]\n",
    "        labels[1] = label[0] + 1\n",
    "\n",
    "        with torch.no_grad():\n",
    "            output = model_test(images.to(device))\n",
    "\n",
    "        softmax = torch.nn.Softmax(dim=1)(output)\n",
    "        predictions = np.argmax(softmax.cpu(), axis=1)\n",
    "        prediction.append(predictions)\n",
    "        target.append(labels)\n",
    "\n",
    "    accuracy = []\n",
    "    for i in range(len(prediction)):\n",
    "        accuracy.append(accuracy_score(target[i].cpu(),prediction[i]))\n",
    "    \n",
    "    return np.average(accuracy)"
   ]
  },
  {
   "cell_type": "markdown",
   "id": "9155dce8-cd9c-4ca4-92f0-7fce0a769b62",
   "metadata": {},
   "source": [
    "## Define Model"
   ]
  },
  {
   "cell_type": "code",
   "execution_count": 8,
   "id": "0ad64b3c-1485-40ae-a22e-35b020a9744f",
   "metadata": {},
   "outputs": [
    {
     "data": {
      "text/plain": [
       "Sequential(\n",
       "  (0): Linear(in_features=960, out_features=1280, bias=True)\n",
       "  (1): Hardswish()\n",
       "  (2): Dropout(p=0.2, inplace=True)\n",
       "  (3): Linear(in_features=1280, out_features=1000, bias=True)\n",
       ")"
      ]
     },
     "execution_count": 8,
     "metadata": {},
     "output_type": "execute_result"
    }
   ],
   "source": [
    "model = torchvision.models.mobilenet_v3_large()\n",
    "model.classifier"
   ]
  },
  {
   "cell_type": "code",
   "execution_count": 9,
   "id": "da2582e9-658f-4236-885d-124b8d40b5ea",
   "metadata": {},
   "outputs": [],
   "source": [
    "# Change number of categories to match number of classes in dataset\n",
    "fc = nn.Sequential(\n",
    "    nn.Linear(in_features=960, out_features=1280, bias=True),\n",
    "    nn.Hardswish(),\n",
    "    nn.Dropout(p=0.2, inplace=True),\n",
    "    nn.Linear(in_features=1280, out_features=len(train_users.classes) + 1, bias=True)\n",
    ")\n",
    "model.classifier = fc\n",
    "model = model.to(device)"
   ]
  },
  {
   "cell_type": "markdown",
   "id": "f98622dd-1b5c-40d6-96a6-1259d619f9b6",
   "metadata": {},
   "source": [
    "## Train Model"
   ]
  },
  {
   "cell_type": "code",
   "execution_count": 10,
   "id": "74fafaaa-5b78-45b0-8c68-629a3281becd",
   "metadata": {},
   "outputs": [],
   "source": [
    "# Optimizer and loss function\n",
    "optimizer = torch.optim.Adam(model.parameters(), lr=0.00166)\n",
    "criterion = nn.CrossEntropyLoss().to(device)\n",
    "epochs = 10"
   ]
  },
  {
   "cell_type": "code",
   "execution_count": 11,
   "id": "7e296862-1a2c-4e8a-98f1-3096af548e9c",
   "metadata": {
    "tags": []
   },
   "outputs": [
    {
     "name": "stderr",
     "output_type": "stream",
     "text": [
      "100%|██████████████████████████████████████████████████████████████████████████████| 2157/2157 [04:45<00:00,  7.55it/s]\n"
     ]
    },
    {
     "name": "stdout",
     "output_type": "stream",
     "text": [
      "epoch: 0, training loss: 0.02414964166610001\n",
      "           Model Accuracy: 0.99\n"
     ]
    },
    {
     "name": "stderr",
     "output_type": "stream",
     "text": [
      "100%|██████████████████████████████████████████████████████████████████████████████| 2157/2157 [04:44<00:00,  7.57it/s]\n"
     ]
    },
    {
     "name": "stdout",
     "output_type": "stream",
     "text": [
      "epoch: 1, training loss: 0.0064740449946113585\n",
      "           Model Accuracy: 0.996\n"
     ]
    },
    {
     "name": "stderr",
     "output_type": "stream",
     "text": [
      "100%|██████████████████████████████████████████████████████████████████████████████| 2157/2157 [04:40<00:00,  7.70it/s]\n"
     ]
    },
    {
     "name": "stdout",
     "output_type": "stream",
     "text": [
      "epoch: 2, training loss: 0.015388010976633075\n",
      "           Model Accuracy: 0.996\n"
     ]
    },
    {
     "name": "stderr",
     "output_type": "stream",
     "text": [
      "100%|██████████████████████████████████████████████████████████████████████████████| 2157/2157 [04:38<00:00,  7.76it/s]\n"
     ]
    },
    {
     "name": "stdout",
     "output_type": "stream",
     "text": [
      "epoch: 3, training loss: 0.007202918490756412\n",
      "           Model Accuracy: 1.0\n"
     ]
    },
    {
     "name": "stderr",
     "output_type": "stream",
     "text": [
      "100%|██████████████████████████████████████████████████████████████████████████████| 2157/2157 [04:43<00:00,  7.61it/s]\n"
     ]
    },
    {
     "name": "stdout",
     "output_type": "stream",
     "text": [
      "epoch: 4, training loss: 0.004104199452944052\n",
      "           Model Accuracy: 0.857\n"
     ]
    },
    {
     "name": "stderr",
     "output_type": "stream",
     "text": [
      "100%|██████████████████████████████████████████████████████████████████████████████| 2157/2157 [04:47<00:00,  7.51it/s]\n"
     ]
    },
    {
     "name": "stdout",
     "output_type": "stream",
     "text": [
      "epoch: 5, training loss: 0.008404054088788537\n",
      "           Model Accuracy: 0.929\n"
     ]
    },
    {
     "name": "stderr",
     "output_type": "stream",
     "text": [
      "100%|██████████████████████████████████████████████████████████████████████████████| 2157/2157 [04:57<00:00,  7.24it/s]\n"
     ]
    },
    {
     "name": "stdout",
     "output_type": "stream",
     "text": [
      "epoch: 6, training loss: 0.004340892371630392\n",
      "           Model Accuracy: 0.928\n"
     ]
    },
    {
     "name": "stderr",
     "output_type": "stream",
     "text": [
      "100%|██████████████████████████████████████████████████████████████████████████████| 2157/2157 [04:51<00:00,  7.40it/s]\n"
     ]
    },
    {
     "name": "stdout",
     "output_type": "stream",
     "text": [
      "epoch: 7, training loss: 0.0033934354094950154\n",
      "           Model Accuracy: 0.785\n"
     ]
    },
    {
     "name": "stderr",
     "output_type": "stream",
     "text": [
      "100%|██████████████████████████████████████████████████████████████████████████████| 2157/2157 [04:51<00:00,  7.41it/s]\n"
     ]
    },
    {
     "name": "stdout",
     "output_type": "stream",
     "text": [
      "epoch: 8, training loss: 0.0035243963874152817\n",
      "           Model Accuracy: 0.929\n"
     ]
    },
    {
     "name": "stderr",
     "output_type": "stream",
     "text": [
      "100%|██████████████████████████████████████████████████████████████████████████████| 2157/2157 [04:54<00:00,  7.32it/s]\n"
     ]
    },
    {
     "name": "stdout",
     "output_type": "stream",
     "text": [
      "epoch: 9, training loss: 0.005003518718625753\n",
      "           Model Accuracy: 0.573\n",
      "Finished Training\n"
     ]
    }
   ],
   "source": [
    "loss_epoch = []\n",
    "val_loss_epoch = []\n",
    "for epoch in range(epochs):  # Loop over the dataset multiple times\n",
    "    training_loss = []\n",
    "    for data in tqdm(train_ffhq_loader):\n",
    "        images, labels = data\n",
    "        user_img, label = get_user_img()\n",
    "\n",
    "        replace_idx = np.random.randint(images.shape[0])\n",
    "\n",
    "        # Randomly replace one image in batch with a user image\n",
    "        images[replace_idx] = user_img[0]\n",
    "        labels[replace_idx] = label[0] + 1\n",
    "\n",
    "        # Prevent cumulative gradients\n",
    "        optimizer.zero_grad()\n",
    "\n",
    "        # Forward pass\n",
    "        outputs = model(images.to(device))\n",
    "        loss = criterion(outputs, labels.to(device))\n",
    "        training_loss.append(loss.item())\n",
    "        \n",
    "        # Backward pass\n",
    "        loss.backward()\n",
    "        # Optimize\n",
    "        optimizer.step()\n",
    "\n",
    "    training_loss = np.average(training_loss)\n",
    "    loss_epoch.append(training_loss)\n",
    "    print(f\"epoch: {epoch}, training loss: {training_loss}\")\n",
    "    model_out_path = f'model/mn-large-{epoch:02}.pt'\n",
    "    torch.save(model, model_out_path)\n",
    "    \n",
    "    # Test last epoch\n",
    "    val_loss_epoch.append(get_model_accuracy(model_out_path))\n",
    "    print(f\"           Model Accuracy: {val_loss_epoch[-1]}\")\n",
    "\n",
    "print('Finished Training')"
   ]
  },
  {
   "cell_type": "code",
   "execution_count": 12,
   "id": "46d31635-08b4-467c-829e-af9f627b7bbf",
   "metadata": {},
   "outputs": [],
   "source": [
    "torch.cuda.empty_cache()"
   ]
  },
  {
   "cell_type": "code",
   "execution_count": 13,
   "id": "9b214c11-999b-4866-9056-d12508f879e3",
   "metadata": {},
   "outputs": [
    {
     "data": {
      "text/plain": [
       "Text(0.5, 1.0, 'Training Loss vs Epoch')"
      ]
     },
     "execution_count": 13,
     "metadata": {},
     "output_type": "execute_result"
    },
    {
     "data": {
      "image/png": "[encoded data removed]",
      "text/plain": [
       "<Figure size 432x288 with 1 Axes>"
      ]
     },
     "metadata": {
      "needs_background": "light"
     },
     "output_type": "display_data"
    }
   ],
   "source": [
    "plt.plot(loss_epoch)\n",
    "plt.title(\"Training Loss vs Epoch\")"
   ]
  },
  {
   "cell_type": "code",
   "execution_count": 14,
   "id": "1850fab0-bf1f-45bf-955a-678d311f9408",
   "metadata": {},
   "outputs": [
    {
     "data": {
      "text/plain": [
       "Text(0.5, 1.0, 'Accuracy vs Epoch')"
      ]
     },
     "execution_count": 14,
     "metadata": {},
     "output_type": "execute_result"
    },
    {
     "data": {
      "image/png": "[encoded data removed]",
      "text/plain": [
       "<Figure size 432x288 with 1 Axes>"
      ]
     },
     "metadata": {
      "needs_background": "light"
     },
     "output_type": "display_data"
    }
   ],
   "source": [
    "plt.plot(val_loss_epoch)\n",
    "plt.title(\"Accuracy vs Epoch\")"
   ]
  },
  {
   "cell_type": "code",
   "execution_count": 15,
   "id": "a0179d6f-04d1-431e-91a8-0b6e4d6581d5",
   "metadata": {},
   "outputs": [
    {
     "data": {
      "text/plain": [
       "4204594"
      ]
     },
     "execution_count": 15,
     "metadata": {},
     "output_type": "execute_result"
    }
   ],
   "source": [
    "params = 0\n",
    "for param in list(model.parameters()):\n",
    "    params += np.product(param.shape)\n",
    "params"
   ]
  },
  {
   "cell_type": "code",
   "execution_count": 16,
   "id": "1b058b80-7d24-4c9b-87b5-bd9521c0873e",
   "metadata": {},
   "outputs": [],
   "source": [
    "selected_model = torch.load('model/mn-large-01.pt')"
   ]
  },
  {
   "cell_type": "code",
   "execution_count": 17,
   "id": "a733c978-263e-4a75-9a7d-810fd71f7d4f",
   "metadata": {},
   "outputs": [],
   "source": [
    "selected_model = torch.jit.script(selected_model.to('cpu'))"
   ]
  },
  {
   "cell_type": "code",
   "execution_count": 18,
   "id": "63dcb9f5-1263-4bec-9261-46b2efc94464",
   "metadata": {},
   "outputs": [],
   "source": [
    "selected_model.save('model/mn-large-01_ts.pt')"
   ]
  },
  {
   "cell_type": "code",
   "execution_count": null,
   "id": "9bf9a594-6038-4dff-9148-71588fac592f",
   "metadata": {},
   "outputs": [],
   "source": []
  }
 ],
 "metadata": {
  "kernelspec": {
   "display_name": "EE",
   "language": "python",
   "name": "ee"
  },
  "language_info": {
   "codemirror_mode": {
    "name": "ipython",
    "version": 3
   },
   "file_extension": ".py",
   "mimetype": "text/x-python",
   "name": "python",
   "nbconvert_exporter": "python",
   "pygments_lexer": "ipython3",
   "version": "3.8.12"
  }
 },
 "nbformat": 4,
 "nbformat_minor": 5
}
